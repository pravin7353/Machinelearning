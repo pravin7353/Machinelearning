{
  "nbformat": 4,
  "nbformat_minor": 5,
  "metadata": {
    "kernelspec": {
      "display_name": "Python 3 (ipykernel)",
      "language": "python",
      "name": "python3"
    },
    "language_info": {
      "codemirror_mode": {
        "name": "ipython",
        "version": 3
      },
      "file_extension": ".py",
      "mimetype": "text/x-python",
      "name": "python",
      "nbconvert_exporter": "python",
      "pygments_lexer": "ipython3",
      "version": "3.9.6"
    },
    "colab": {
      "name": "Real World Data Banglore House Price Prediction Decision Tree Regressor.ipynb",
      "provenance": [],
      "include_colab_link": true
    }
  },
  "cells": [
    {
      "cell_type": "markdown",
      "metadata": {
        "id": "view-in-github",
        "colab_type": "text"
      },
      "source": [
        "<a href=\"https://colab.research.google.com/github/pravin7353/Machinelearning/blob/main/Real_World_Data_Banglore_House_Price_Prediction_Decision_Tree_Regressor.ipynb\" target=\"_parent\"><img src=\"https://colab.research.google.com/assets/colab-badge.svg\" alt=\"Open In Colab\"/></a>"
      ]
    },
    {
      "cell_type": "code",
      "metadata": {
        "id": "431c7b8e"
      },
      "source": [
        "import pandas as pd\n",
        "import numpy as np"
      ],
      "id": "431c7b8e",
      "execution_count": null,
      "outputs": []
    },
    {
      "cell_type": "code",
      "metadata": {
        "id": "9ea05fc3"
      },
      "source": [
        "data = pd.read_csv('bangalore_house.csv')"
      ],
      "id": "9ea05fc3",
      "execution_count": null,
      "outputs": []
    },
    {
      "cell_type": "code",
      "metadata": {
        "id": "5b9a0583",
        "outputId": "4fad65f8-9afe-42ad-a251-fe266a975ed4"
      },
      "source": [
        "data"
      ],
      "id": "5b9a0583",
      "execution_count": null,
      "outputs": [
        {
          "data": {
            "text/html": [
              "<div>\n",
              "<style scoped>\n",
              "    .dataframe tbody tr th:only-of-type {\n",
              "        vertical-align: middle;\n",
              "    }\n",
              "\n",
              "    .dataframe tbody tr th {\n",
              "        vertical-align: top;\n",
              "    }\n",
              "\n",
              "    .dataframe thead th {\n",
              "        text-align: right;\n",
              "    }\n",
              "</style>\n",
              "<table border=\"1\" class=\"dataframe\">\n",
              "  <thead>\n",
              "    <tr style=\"text-align: right;\">\n",
              "      <th></th>\n",
              "      <th>bath</th>\n",
              "      <th>balcony</th>\n",
              "      <th>price</th>\n",
              "      <th>total_sqft_int</th>\n",
              "      <th>bhk</th>\n",
              "      <th>price_per_sqft</th>\n",
              "      <th>area_typeSuper built-up  Area</th>\n",
              "      <th>area_typeBuilt-up  Area</th>\n",
              "      <th>area_typePlot  Area</th>\n",
              "      <th>availability_Ready To Move</th>\n",
              "      <th>...</th>\n",
              "      <th>location_Kalena Agrahara</th>\n",
              "      <th>location_Horamavu Agara</th>\n",
              "      <th>location_Vidyaranyapura</th>\n",
              "      <th>location_BTM 2nd Stage</th>\n",
              "      <th>location_Hebbal Kempapura</th>\n",
              "      <th>location_Hosur Road</th>\n",
              "      <th>location_Horamavu Banaswadi</th>\n",
              "      <th>location_Domlur</th>\n",
              "      <th>location_Mahadevpura</th>\n",
              "      <th>location_Tumkur Road</th>\n",
              "    </tr>\n",
              "  </thead>\n",
              "  <tbody>\n",
              "    <tr>\n",
              "      <th>0</th>\n",
              "      <td>3.0</td>\n",
              "      <td>2.0</td>\n",
              "      <td>150.00</td>\n",
              "      <td>1672.0</td>\n",
              "      <td>3</td>\n",
              "      <td>8971.291866</td>\n",
              "      <td>1</td>\n",
              "      <td>0</td>\n",
              "      <td>0</td>\n",
              "      <td>1</td>\n",
              "      <td>...</td>\n",
              "      <td>0</td>\n",
              "      <td>0</td>\n",
              "      <td>0</td>\n",
              "      <td>0</td>\n",
              "      <td>0</td>\n",
              "      <td>0</td>\n",
              "      <td>0</td>\n",
              "      <td>0</td>\n",
              "      <td>0</td>\n",
              "      <td>0</td>\n",
              "    </tr>\n",
              "    <tr>\n",
              "      <th>1</th>\n",
              "      <td>3.0</td>\n",
              "      <td>3.0</td>\n",
              "      <td>149.00</td>\n",
              "      <td>1750.0</td>\n",
              "      <td>3</td>\n",
              "      <td>8514.285714</td>\n",
              "      <td>0</td>\n",
              "      <td>1</td>\n",
              "      <td>0</td>\n",
              "      <td>1</td>\n",
              "      <td>...</td>\n",
              "      <td>0</td>\n",
              "      <td>0</td>\n",
              "      <td>0</td>\n",
              "      <td>0</td>\n",
              "      <td>0</td>\n",
              "      <td>0</td>\n",
              "      <td>0</td>\n",
              "      <td>0</td>\n",
              "      <td>0</td>\n",
              "      <td>0</td>\n",
              "    </tr>\n",
              "    <tr>\n",
              "      <th>2</th>\n",
              "      <td>3.0</td>\n",
              "      <td>2.0</td>\n",
              "      <td>150.00</td>\n",
              "      <td>1750.0</td>\n",
              "      <td>3</td>\n",
              "      <td>8571.428571</td>\n",
              "      <td>1</td>\n",
              "      <td>0</td>\n",
              "      <td>0</td>\n",
              "      <td>1</td>\n",
              "      <td>...</td>\n",
              "      <td>0</td>\n",
              "      <td>0</td>\n",
              "      <td>0</td>\n",
              "      <td>0</td>\n",
              "      <td>0</td>\n",
              "      <td>0</td>\n",
              "      <td>0</td>\n",
              "      <td>0</td>\n",
              "      <td>0</td>\n",
              "      <td>0</td>\n",
              "    </tr>\n",
              "    <tr>\n",
              "      <th>3</th>\n",
              "      <td>2.0</td>\n",
              "      <td>2.0</td>\n",
              "      <td>40.00</td>\n",
              "      <td>1250.0</td>\n",
              "      <td>2</td>\n",
              "      <td>3200.000000</td>\n",
              "      <td>1</td>\n",
              "      <td>0</td>\n",
              "      <td>0</td>\n",
              "      <td>1</td>\n",
              "      <td>...</td>\n",
              "      <td>0</td>\n",
              "      <td>0</td>\n",
              "      <td>0</td>\n",
              "      <td>0</td>\n",
              "      <td>0</td>\n",
              "      <td>0</td>\n",
              "      <td>0</td>\n",
              "      <td>0</td>\n",
              "      <td>0</td>\n",
              "      <td>0</td>\n",
              "    </tr>\n",
              "    <tr>\n",
              "      <th>4</th>\n",
              "      <td>2.0</td>\n",
              "      <td>2.0</td>\n",
              "      <td>83.00</td>\n",
              "      <td>1200.0</td>\n",
              "      <td>2</td>\n",
              "      <td>6916.666667</td>\n",
              "      <td>0</td>\n",
              "      <td>0</td>\n",
              "      <td>1</td>\n",
              "      <td>1</td>\n",
              "      <td>...</td>\n",
              "      <td>0</td>\n",
              "      <td>0</td>\n",
              "      <td>0</td>\n",
              "      <td>0</td>\n",
              "      <td>0</td>\n",
              "      <td>0</td>\n",
              "      <td>0</td>\n",
              "      <td>0</td>\n",
              "      <td>0</td>\n",
              "      <td>0</td>\n",
              "    </tr>\n",
              "    <tr>\n",
              "      <th>...</th>\n",
              "      <td>...</td>\n",
              "      <td>...</td>\n",
              "      <td>...</td>\n",
              "      <td>...</td>\n",
              "      <td>...</td>\n",
              "      <td>...</td>\n",
              "      <td>...</td>\n",
              "      <td>...</td>\n",
              "      <td>...</td>\n",
              "      <td>...</td>\n",
              "      <td>...</td>\n",
              "      <td>...</td>\n",
              "      <td>...</td>\n",
              "      <td>...</td>\n",
              "      <td>...</td>\n",
              "      <td>...</td>\n",
              "      <td>...</td>\n",
              "      <td>...</td>\n",
              "      <td>...</td>\n",
              "      <td>...</td>\n",
              "      <td>...</td>\n",
              "    </tr>\n",
              "    <tr>\n",
              "      <th>7115</th>\n",
              "      <td>3.0</td>\n",
              "      <td>2.0</td>\n",
              "      <td>325.00</td>\n",
              "      <td>2900.0</td>\n",
              "      <td>3</td>\n",
              "      <td>11206.896552</td>\n",
              "      <td>1</td>\n",
              "      <td>0</td>\n",
              "      <td>0</td>\n",
              "      <td>1</td>\n",
              "      <td>...</td>\n",
              "      <td>0</td>\n",
              "      <td>0</td>\n",
              "      <td>0</td>\n",
              "      <td>0</td>\n",
              "      <td>0</td>\n",
              "      <td>0</td>\n",
              "      <td>0</td>\n",
              "      <td>0</td>\n",
              "      <td>0</td>\n",
              "      <td>0</td>\n",
              "    </tr>\n",
              "    <tr>\n",
              "      <th>7116</th>\n",
              "      <td>3.0</td>\n",
              "      <td>1.0</td>\n",
              "      <td>84.83</td>\n",
              "      <td>1780.0</td>\n",
              "      <td>3</td>\n",
              "      <td>4765.730337</td>\n",
              "      <td>1</td>\n",
              "      <td>0</td>\n",
              "      <td>0</td>\n",
              "      <td>0</td>\n",
              "      <td>...</td>\n",
              "      <td>0</td>\n",
              "      <td>0</td>\n",
              "      <td>0</td>\n",
              "      <td>0</td>\n",
              "      <td>0</td>\n",
              "      <td>0</td>\n",
              "      <td>0</td>\n",
              "      <td>0</td>\n",
              "      <td>0</td>\n",
              "      <td>0</td>\n",
              "    </tr>\n",
              "    <tr>\n",
              "      <th>7117</th>\n",
              "      <td>2.0</td>\n",
              "      <td>1.0</td>\n",
              "      <td>48.00</td>\n",
              "      <td>880.0</td>\n",
              "      <td>2</td>\n",
              "      <td>5454.545455</td>\n",
              "      <td>0</td>\n",
              "      <td>0</td>\n",
              "      <td>1</td>\n",
              "      <td>1</td>\n",
              "      <td>...</td>\n",
              "      <td>0</td>\n",
              "      <td>0</td>\n",
              "      <td>0</td>\n",
              "      <td>0</td>\n",
              "      <td>0</td>\n",
              "      <td>0</td>\n",
              "      <td>0</td>\n",
              "      <td>0</td>\n",
              "      <td>0</td>\n",
              "      <td>0</td>\n",
              "    </tr>\n",
              "    <tr>\n",
              "      <th>7118</th>\n",
              "      <td>2.0</td>\n",
              "      <td>1.0</td>\n",
              "      <td>55.00</td>\n",
              "      <td>1000.0</td>\n",
              "      <td>2</td>\n",
              "      <td>5500.000000</td>\n",
              "      <td>0</td>\n",
              "      <td>0</td>\n",
              "      <td>1</td>\n",
              "      <td>0</td>\n",
              "      <td>...</td>\n",
              "      <td>0</td>\n",
              "      <td>0</td>\n",
              "      <td>0</td>\n",
              "      <td>0</td>\n",
              "      <td>0</td>\n",
              "      <td>0</td>\n",
              "      <td>0</td>\n",
              "      <td>0</td>\n",
              "      <td>0</td>\n",
              "      <td>0</td>\n",
              "    </tr>\n",
              "    <tr>\n",
              "      <th>7119</th>\n",
              "      <td>2.0</td>\n",
              "      <td>1.0</td>\n",
              "      <td>78.00</td>\n",
              "      <td>1400.0</td>\n",
              "      <td>3</td>\n",
              "      <td>5571.428571</td>\n",
              "      <td>0</td>\n",
              "      <td>0</td>\n",
              "      <td>1</td>\n",
              "      <td>0</td>\n",
              "      <td>...</td>\n",
              "      <td>0</td>\n",
              "      <td>0</td>\n",
              "      <td>0</td>\n",
              "      <td>0</td>\n",
              "      <td>0</td>\n",
              "      <td>0</td>\n",
              "      <td>0</td>\n",
              "      <td>0</td>\n",
              "      <td>0</td>\n",
              "      <td>0</td>\n",
              "    </tr>\n",
              "  </tbody>\n",
              "</table>\n",
              "<p>7120 rows × 108 columns</p>\n",
              "</div>"
            ],
            "text/plain": [
              "      bath  balcony   price  total_sqft_int  bhk  price_per_sqft  \\\n",
              "0      3.0      2.0  150.00          1672.0    3     8971.291866   \n",
              "1      3.0      3.0  149.00          1750.0    3     8514.285714   \n",
              "2      3.0      2.0  150.00          1750.0    3     8571.428571   \n",
              "3      2.0      2.0   40.00          1250.0    2     3200.000000   \n",
              "4      2.0      2.0   83.00          1200.0    2     6916.666667   \n",
              "...    ...      ...     ...             ...  ...             ...   \n",
              "7115   3.0      2.0  325.00          2900.0    3    11206.896552   \n",
              "7116   3.0      1.0   84.83          1780.0    3     4765.730337   \n",
              "7117   2.0      1.0   48.00           880.0    2     5454.545455   \n",
              "7118   2.0      1.0   55.00          1000.0    2     5500.000000   \n",
              "7119   2.0      1.0   78.00          1400.0    3     5571.428571   \n",
              "\n",
              "      area_typeSuper built-up  Area  area_typeBuilt-up  Area  \\\n",
              "0                                 1                        0   \n",
              "1                                 0                        1   \n",
              "2                                 1                        0   \n",
              "3                                 1                        0   \n",
              "4                                 0                        0   \n",
              "...                             ...                      ...   \n",
              "7115                              1                        0   \n",
              "7116                              1                        0   \n",
              "7117                              0                        0   \n",
              "7118                              0                        0   \n",
              "7119                              0                        0   \n",
              "\n",
              "      area_typePlot  Area  availability_Ready To Move  ...  \\\n",
              "0                       0                           1  ...   \n",
              "1                       0                           1  ...   \n",
              "2                       0                           1  ...   \n",
              "3                       0                           1  ...   \n",
              "4                       1                           1  ...   \n",
              "...                   ...                         ...  ...   \n",
              "7115                    0                           1  ...   \n",
              "7116                    0                           0  ...   \n",
              "7117                    1                           1  ...   \n",
              "7118                    1                           0  ...   \n",
              "7119                    1                           0  ...   \n",
              "\n",
              "      location_Kalena Agrahara  location_Horamavu Agara  \\\n",
              "0                            0                        0   \n",
              "1                            0                        0   \n",
              "2                            0                        0   \n",
              "3                            0                        0   \n",
              "4                            0                        0   \n",
              "...                        ...                      ...   \n",
              "7115                         0                        0   \n",
              "7116                         0                        0   \n",
              "7117                         0                        0   \n",
              "7118                         0                        0   \n",
              "7119                         0                        0   \n",
              "\n",
              "      location_Vidyaranyapura  location_BTM 2nd Stage  \\\n",
              "0                           0                       0   \n",
              "1                           0                       0   \n",
              "2                           0                       0   \n",
              "3                           0                       0   \n",
              "4                           0                       0   \n",
              "...                       ...                     ...   \n",
              "7115                        0                       0   \n",
              "7116                        0                       0   \n",
              "7117                        0                       0   \n",
              "7118                        0                       0   \n",
              "7119                        0                       0   \n",
              "\n",
              "      location_Hebbal Kempapura  location_Hosur Road  \\\n",
              "0                             0                    0   \n",
              "1                             0                    0   \n",
              "2                             0                    0   \n",
              "3                             0                    0   \n",
              "4                             0                    0   \n",
              "...                         ...                  ...   \n",
              "7115                          0                    0   \n",
              "7116                          0                    0   \n",
              "7117                          0                    0   \n",
              "7118                          0                    0   \n",
              "7119                          0                    0   \n",
              "\n",
              "      location_Horamavu Banaswadi  location_Domlur  location_Mahadevpura  \\\n",
              "0                               0                0                     0   \n",
              "1                               0                0                     0   \n",
              "2                               0                0                     0   \n",
              "3                               0                0                     0   \n",
              "4                               0                0                     0   \n",
              "...                           ...              ...                   ...   \n",
              "7115                            0                0                     0   \n",
              "7116                            0                0                     0   \n",
              "7117                            0                0                     0   \n",
              "7118                            0                0                     0   \n",
              "7119                            0                0                     0   \n",
              "\n",
              "      location_Tumkur Road  \n",
              "0                        0  \n",
              "1                        0  \n",
              "2                        0  \n",
              "3                        0  \n",
              "4                        0  \n",
              "...                    ...  \n",
              "7115                     0  \n",
              "7116                     0  \n",
              "7117                     0  \n",
              "7118                     0  \n",
              "7119                     0  \n",
              "\n",
              "[7120 rows x 108 columns]"
            ]
          },
          "execution_count": 3,
          "metadata": {},
          "output_type": "execute_result"
        }
      ]
    },
    {
      "cell_type": "code",
      "metadata": {
        "id": "dae648f3"
      },
      "source": [
        "#another way to split X's and Y \n",
        "\n",
        "X = data.drop('price', axis =1)\n",
        "y = data['price']"
      ],
      "id": "dae648f3",
      "execution_count": null,
      "outputs": []
    },
    {
      "cell_type": "markdown",
      "metadata": {
        "id": "14a1e080"
      },
      "source": [
        "## Train Test Split"
      ],
      "id": "14a1e080"
    },
    {
      "cell_type": "code",
      "metadata": {
        "id": "ddff0a95"
      },
      "source": [
        "from sklearn.model_selection import train_test_split"
      ],
      "id": "ddff0a95",
      "execution_count": null,
      "outputs": []
    },
    {
      "cell_type": "code",
      "metadata": {
        "id": "9d607f96"
      },
      "source": [
        "X_train, X_test, y_train, y_test = train_test_split(X, y, test_size=0.2, random_state=42)"
      ],
      "id": "9d607f96",
      "execution_count": null,
      "outputs": []
    },
    {
      "cell_type": "markdown",
      "metadata": {
        "id": "1b2a815d"
      },
      "source": [
        "## Feature scaling is not necessary for Decision Tree Algo"
      ],
      "id": "1b2a815d"
    },
    {
      "cell_type": "markdown",
      "metadata": {
        "id": "a9ec31b1"
      },
      "source": [
        "## DecisionTreeRegressor"
      ],
      "id": "a9ec31b1"
    },
    {
      "cell_type": "code",
      "metadata": {
        "id": "a2cf6acd"
      },
      "source": [
        "from sklearn.tree import DecisionTreeRegressor"
      ],
      "id": "a2cf6acd",
      "execution_count": null,
      "outputs": []
    },
    {
      "cell_type": "code",
      "metadata": {
        "id": "e35081e9",
        "outputId": "13cae759-0bab-4a87-8c02-973403a8ac49"
      },
      "source": [
        "dtr_mse = DecisionTreeRegressor(criterion='mse')\n",
        "dtr_mse.fit(X_train, y_train)"
      ],
      "id": "e35081e9",
      "execution_count": null,
      "outputs": [
        {
          "data": {
            "text/plain": [
              "DecisionTreeRegressor()"
            ]
          },
          "execution_count": 27,
          "metadata": {},
          "output_type": "execute_result"
        }
      ]
    },
    {
      "cell_type": "code",
      "metadata": {
        "id": "0a37862d",
        "outputId": "88f8658f-83df-4a09-c64b-4a3e21d0763e"
      },
      "source": [
        "dtr_mse.score(X_test, y_test)"
      ],
      "id": "0a37862d",
      "execution_count": null,
      "outputs": [
        {
          "data": {
            "text/plain": [
              "0.9615214365785768"
            ]
          },
          "execution_count": 28,
          "metadata": {},
          "output_type": "execute_result"
        }
      ]
    },
    {
      "cell_type": "markdown",
      "metadata": {
        "id": "9f34a006"
      },
      "source": [
        "## Value Of house"
      ],
      "id": "9f34a006"
    },
    {
      "cell_type": "code",
      "metadata": {
        "id": "d304db1e",
        "outputId": "cf42beb4-1b50-49a4-db1f-49f4014bed22"
      },
      "source": [
        "dtr_mse.predict(X_test)"
      ],
      "id": "d304db1e",
      "execution_count": null,
      "outputs": [
        {
          "data": {
            "text/plain": [
              "array([46.5 , 60.  , 65.  , ..., 57.  , 27.  , 49.49])"
            ]
          },
          "execution_count": 29,
          "metadata": {},
          "output_type": "execute_result"
        }
      ]
    },
    {
      "cell_type": "code",
      "metadata": {
        "id": "246dabdd",
        "outputId": "2ee0077e-4f36-4450-caf7-5a5f3327cac2"
      },
      "source": [
        "y_test"
      ],
      "id": "246dabdd",
      "execution_count": null,
      "outputs": [
        {
          "data": {
            "text/plain": [
              "960      47.0\n",
              "132      60.0\n",
              "2431     65.0\n",
              "2229    325.0\n",
              "4503     60.0\n",
              "        ...  \n",
              "4970     48.0\n",
              "553     205.0\n",
              "1397     56.5\n",
              "4056     26.0\n",
              "1817     49.0\n",
              "Name: price, Length: 1424, dtype: float64"
            ]
          },
          "execution_count": 30,
          "metadata": {},
          "output_type": "execute_result"
        }
      ]
    },
    {
      "cell_type": "code",
      "metadata": {
        "id": "1d0902b2",
        "outputId": "42f641b9-9786-40fc-b755-6c21bda6ad5e"
      },
      "source": [
        "X_test.iloc[-1,:]"
      ],
      "id": "1d0902b2",
      "execution_count": null,
      "outputs": [
        {
          "data": {
            "text/plain": [
              "bath                              2.000000\n",
              "balcony                           1.000000\n",
              "total_sqft_int                 1092.000000\n",
              "bhk                               2.000000\n",
              "price_per_sqft                 4487.179487\n",
              "                                  ...     \n",
              "location_Hosur Road               0.000000\n",
              "location_Horamavu Banaswadi       0.000000\n",
              "location_Domlur                   0.000000\n",
              "location_Mahadevpura              0.000000\n",
              "location_Tumkur Road              0.000000\n",
              "Name: 1817, Length: 107, dtype: float64"
            ]
          },
          "execution_count": 36,
          "metadata": {},
          "output_type": "execute_result"
        }
      ]
    },
    {
      "cell_type": "code",
      "metadata": {
        "id": "e002aa52"
      },
      "source": [
        "## Precting single "
      ],
      "id": "e002aa52",
      "execution_count": null,
      "outputs": []
    },
    {
      "cell_type": "code",
      "metadata": {
        "id": "c010c48b",
        "outputId": "b04671d0-02ff-4121-9388-23f04727fdaa"
      },
      "source": [
        "dtr_mse.predict([X_test.iloc[-1,:]])"
      ],
      "id": "c010c48b",
      "execution_count": null,
      "outputs": [
        {
          "data": {
            "text/plain": [
              "array([49.49])"
            ]
          },
          "execution_count": 38,
          "metadata": {},
          "output_type": "execute_result"
        }
      ]
    },
    {
      "cell_type": "code",
      "metadata": {
        "id": "f580494c",
        "outputId": "8ad85d9c-246e-47d6-f547-e21df1f49c82"
      },
      "source": [
        "y_test.iloc[-1]"
      ],
      "id": "f580494c",
      "execution_count": null,
      "outputs": [
        {
          "data": {
            "text/plain": [
              "49.0"
            ]
          },
          "execution_count": 39,
          "metadata": {},
          "output_type": "execute_result"
        }
      ]
    },
    {
      "cell_type": "code",
      "metadata": {
        "id": "280352ef"
      },
      "source": [
        ""
      ],
      "id": "280352ef",
      "execution_count": null,
      "outputs": []
    }
  ]
}